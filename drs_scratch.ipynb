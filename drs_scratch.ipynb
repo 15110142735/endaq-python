{
 "cells": [
  {
   "cell_type": "code",
   "execution_count": 1,
   "id": "d97e3704",
   "metadata": {},
   "outputs": [],
   "source": [
    "from idelib.importer import importFile\n",
    "from endaq.ide.measurement import *\n",
    "from endaq.ide.info import *"
   ]
  },
  {
   "cell_type": "code",
   "execution_count": 2,
   "id": "22b417de",
   "metadata": {},
   "outputs": [],
   "source": [
    "doc = importFile(r\"C:\\Users\\dstokes\\workspace\\endaq-python\\tests\\test.ide\")"
   ]
  },
  {
   "cell_type": "code",
   "execution_count": 3,
   "id": "cf5ab828",
   "metadata": {},
   "outputs": [],
   "source": [
    "t = get_channel_table(doc)"
   ]
  },
  {
   "cell_type": "code",
   "execution_count": 4,
   "id": "c65b68f3",
   "metadata": {},
   "outputs": [
    {
     "data": {
      "text/html": [
       "<style  type=\"text/css\" >\n",
       "</style><table id=\"T_1606c_\" ><thead>    <tr>        <th class=\"blank level0\" ></th>        <th class=\"col_heading level0 col0\" >channel</th>        <th class=\"col_heading level0 col1\" >name</th>        <th class=\"col_heading level0 col2\" >type</th>        <th class=\"col_heading level0 col3\" >units</th>        <th class=\"col_heading level0 col4\" >start</th>        <th class=\"col_heading level0 col5\" >end</th>        <th class=\"col_heading level0 col6\" >duration</th>        <th class=\"col_heading level0 col7\" >samples</th>        <th class=\"col_heading level0 col8\" >rate</th>        <th class=\"col_heading level0 col9\" >min</th>        <th class=\"col_heading level0 col10\" >mean</th>        <th class=\"col_heading level0 col11\" >max</th>    </tr></thead><tbody>\n",
       "                <tr>\n",
       "                        <th id=\"T_1606c_level0_row0\" class=\"row_heading level0 row0\" >0</th>\n",
       "                        <td id=\"T_1606c_row0_col0\" class=\"data row0 col0\" >32.0</td>\n",
       "                        <td id=\"T_1606c_row0_col1\" class=\"data row0 col1\" >X (16g)</td>\n",
       "                        <td id=\"T_1606c_row0_col2\" class=\"data row0 col2\" >Acceleration</td>\n",
       "                        <td id=\"T_1606c_row0_col3\" class=\"data row0 col3\" >g</td>\n",
       "                        <td id=\"T_1606c_row0_col4\" class=\"data row0 col4\" >00:00.0952</td>\n",
       "                        <td id=\"T_1606c_row0_col5\" class=\"data row0 col5\" >00:19.0012</td>\n",
       "                        <td id=\"T_1606c_row0_col6\" class=\"data row0 col6\" >00:18.0059</td>\n",
       "                        <td id=\"T_1606c_row0_col7\" class=\"data row0 col7\" >7113</td>\n",
       "                        <td id=\"T_1606c_row0_col8\" class=\"data row0 col8\" >393.86 Hz</td>\n",
       "                        <td id=\"T_1606c_row0_col9\" class=\"data row0 col9\" >-0.7249</td>\n",
       "                        <td id=\"T_1606c_row0_col10\" class=\"data row0 col10\" >0.0028</td>\n",
       "                        <td id=\"T_1606c_row0_col11\" class=\"data row0 col11\" >0.4984</td>\n",
       "            </tr>\n",
       "            <tr>\n",
       "                        <th id=\"T_1606c_level0_row1\" class=\"row_heading level0 row1\" >1</th>\n",
       "                        <td id=\"T_1606c_row1_col0\" class=\"data row1 col0\" >32.1</td>\n",
       "                        <td id=\"T_1606c_row1_col1\" class=\"data row1 col1\" >Y (16g)</td>\n",
       "                        <td id=\"T_1606c_row1_col2\" class=\"data row1 col2\" >Acceleration</td>\n",
       "                        <td id=\"T_1606c_row1_col3\" class=\"data row1 col3\" >g</td>\n",
       "                        <td id=\"T_1606c_row1_col4\" class=\"data row1 col4\" >00:00.0952</td>\n",
       "                        <td id=\"T_1606c_row1_col5\" class=\"data row1 col5\" >00:19.0012</td>\n",
       "                        <td id=\"T_1606c_row1_col6\" class=\"data row1 col6\" >00:18.0059</td>\n",
       "                        <td id=\"T_1606c_row1_col7\" class=\"data row1 col7\" >7113</td>\n",
       "                        <td id=\"T_1606c_row1_col8\" class=\"data row1 col8\" >393.86 Hz</td>\n",
       "                        <td id=\"T_1606c_row1_col9\" class=\"data row1 col9\" >-0.8792</td>\n",
       "                        <td id=\"T_1606c_row1_col10\" class=\"data row1 col10\" >-0.0170</td>\n",
       "                        <td id=\"T_1606c_row1_col11\" class=\"data row1 col11\" >0.9958</td>\n",
       "            </tr>\n",
       "            <tr>\n",
       "                        <th id=\"T_1606c_level0_row2\" class=\"row_heading level0 row2\" >2</th>\n",
       "                        <td id=\"T_1606c_row2_col0\" class=\"data row2 col0\" >32.2</td>\n",
       "                        <td id=\"T_1606c_row2_col1\" class=\"data row2 col1\" >Z (16g)</td>\n",
       "                        <td id=\"T_1606c_row2_col2\" class=\"data row2 col2\" >Acceleration</td>\n",
       "                        <td id=\"T_1606c_row2_col3\" class=\"data row2 col3\" >g</td>\n",
       "                        <td id=\"T_1606c_row2_col4\" class=\"data row2 col4\" >00:00.0952</td>\n",
       "                        <td id=\"T_1606c_row2_col5\" class=\"data row2 col5\" >00:19.0012</td>\n",
       "                        <td id=\"T_1606c_row2_col6\" class=\"data row2 col6\" >00:18.0059</td>\n",
       "                        <td id=\"T_1606c_row2_col7\" class=\"data row2 col7\" >7113</td>\n",
       "                        <td id=\"T_1606c_row2_col8\" class=\"data row2 col8\" >393.86 Hz</td>\n",
       "                        <td id=\"T_1606c_row2_col9\" class=\"data row2 col9\" >0.3346</td>\n",
       "                        <td id=\"T_1606c_row2_col10\" class=\"data row2 col10\" >0.9985</td>\n",
       "                        <td id=\"T_1606c_row2_col11\" class=\"data row2 col11\" >1.6945</td>\n",
       "            </tr>\n",
       "            <tr>\n",
       "                        <th id=\"T_1606c_level0_row3\" class=\"row_heading level0 row3\" >3</th>\n",
       "                        <td id=\"T_1606c_row3_col0\" class=\"data row3 col0\" >80.0</td>\n",
       "                        <td id=\"T_1606c_row3_col1\" class=\"data row3 col1\" >X (8g)</td>\n",
       "                        <td id=\"T_1606c_row3_col2\" class=\"data row3 col2\" >Acceleration</td>\n",
       "                        <td id=\"T_1606c_row3_col3\" class=\"data row3 col3\" >g</td>\n",
       "                        <td id=\"T_1606c_row3_col4\" class=\"data row3 col4\" >00:00.0948</td>\n",
       "                        <td id=\"T_1606c_row3_col5\" class=\"data row3 col5\" >00:19.0013</td>\n",
       "                        <td id=\"T_1606c_row3_col6\" class=\"data row3 col6\" >00:18.0064</td>\n",
       "                        <td id=\"T_1606c_row3_col7\" class=\"data row3 col7\" >9070</td>\n",
       "                        <td id=\"T_1606c_row3_col8\" class=\"data row3 col8\" >502.09 Hz</td>\n",
       "                        <td id=\"T_1606c_row3_col9\" class=\"data row3 col9\" >-0.1765</td>\n",
       "                        <td id=\"T_1606c_row3_col10\" class=\"data row3 col10\" >0.0119</td>\n",
       "                        <td id=\"T_1606c_row3_col11\" class=\"data row3 col11\" >0.3238</td>\n",
       "            </tr>\n",
       "            <tr>\n",
       "                        <th id=\"T_1606c_level0_row4\" class=\"row_heading level0 row4\" >4</th>\n",
       "                        <td id=\"T_1606c_row4_col0\" class=\"data row4 col0\" >80.1</td>\n",
       "                        <td id=\"T_1606c_row4_col1\" class=\"data row4 col1\" >Y (8g)</td>\n",
       "                        <td id=\"T_1606c_row4_col2\" class=\"data row4 col2\" >Acceleration</td>\n",
       "                        <td id=\"T_1606c_row4_col3\" class=\"data row4 col3\" >g</td>\n",
       "                        <td id=\"T_1606c_row4_col4\" class=\"data row4 col4\" >00:00.0948</td>\n",
       "                        <td id=\"T_1606c_row4_col5\" class=\"data row4 col5\" >00:19.0013</td>\n",
       "                        <td id=\"T_1606c_row4_col6\" class=\"data row4 col6\" >00:18.0064</td>\n",
       "                        <td id=\"T_1606c_row4_col7\" class=\"data row4 col7\" >9070</td>\n",
       "                        <td id=\"T_1606c_row4_col8\" class=\"data row4 col8\" >502.09 Hz</td>\n",
       "                        <td id=\"T_1606c_row4_col9\" class=\"data row4 col9\" >-0.4472</td>\n",
       "                        <td id=\"T_1606c_row4_col10\" class=\"data row4 col10\" >-0.0145</td>\n",
       "                        <td id=\"T_1606c_row4_col11\" class=\"data row4 col11\" >0.0499</td>\n",
       "            </tr>\n",
       "            <tr>\n",
       "                        <th id=\"T_1606c_level0_row5\" class=\"row_heading level0 row5\" >5</th>\n",
       "                        <td id=\"T_1606c_row5_col0\" class=\"data row5 col0\" >80.2</td>\n",
       "                        <td id=\"T_1606c_row5_col1\" class=\"data row5 col1\" >Z (8g)</td>\n",
       "                        <td id=\"T_1606c_row5_col2\" class=\"data row5 col2\" >Acceleration</td>\n",
       "                        <td id=\"T_1606c_row5_col3\" class=\"data row5 col3\" >g</td>\n",
       "                        <td id=\"T_1606c_row5_col4\" class=\"data row5 col4\" >00:00.0948</td>\n",
       "                        <td id=\"T_1606c_row5_col5\" class=\"data row5 col5\" >00:19.0013</td>\n",
       "                        <td id=\"T_1606c_row5_col6\" class=\"data row5 col6\" >00:18.0064</td>\n",
       "                        <td id=\"T_1606c_row5_col7\" class=\"data row5 col7\" >9070</td>\n",
       "                        <td id=\"T_1606c_row5_col8\" class=\"data row5 col8\" >502.09 Hz</td>\n",
       "                        <td id=\"T_1606c_row5_col9\" class=\"data row5 col9\" >0.5981</td>\n",
       "                        <td id=\"T_1606c_row5_col10\" class=\"data row5 col10\" >0.0286</td>\n",
       "                        <td id=\"T_1606c_row5_col11\" class=\"data row5 col11\" >1.2942</td>\n",
       "            </tr>\n",
       "            <tr>\n",
       "                        <th id=\"T_1606c_level0_row6\" class=\"row_heading level0 row6\" >6</th>\n",
       "                        <td id=\"T_1606c_row6_col0\" class=\"data row6 col0\" >36.0</td>\n",
       "                        <td id=\"T_1606c_row6_col1\" class=\"data row6 col1\" >Pressure/Temperature:00</td>\n",
       "                        <td id=\"T_1606c_row6_col2\" class=\"data row6 col2\" >Pressure</td>\n",
       "                        <td id=\"T_1606c_row6_col3\" class=\"data row6 col3\" >Pa</td>\n",
       "                        <td id=\"T_1606c_row6_col4\" class=\"data row6 col4\" >00:00.0945</td>\n",
       "                        <td id=\"T_1606c_row6_col5\" class=\"data row6 col5\" >00:19.0175</td>\n",
       "                        <td id=\"T_1606c_row6_col6\" class=\"data row6 col6\" >00:18.0230</td>\n",
       "                        <td id=\"T_1606c_row6_col7\" class=\"data row6 col7\" >20</td>\n",
       "                        <td id=\"T_1606c_row6_col8\" class=\"data row6 col8\" >1.10 Hz</td>\n",
       "                        <td id=\"T_1606c_row6_col9\" class=\"data row6 col9\" >101587.2500</td>\n",
       "                        <td id=\"T_1606c_row6_col10\" class=\"data row6 col10\" >101608.5000</td>\n",
       "                        <td id=\"T_1606c_row6_col11\" class=\"data row6 col11\" >101645.5000</td>\n",
       "            </tr>\n",
       "            <tr>\n",
       "                        <th id=\"T_1606c_level0_row7\" class=\"row_heading level0 row7\" >7</th>\n",
       "                        <td id=\"T_1606c_row7_col0\" class=\"data row7 col0\" >36.1</td>\n",
       "                        <td id=\"T_1606c_row7_col1\" class=\"data row7 col1\" >Pressure/Temperature:01</td>\n",
       "                        <td id=\"T_1606c_row7_col2\" class=\"data row7 col2\" >Temperature</td>\n",
       "                        <td id=\"T_1606c_row7_col3\" class=\"data row7 col3\" >°C</td>\n",
       "                        <td id=\"T_1606c_row7_col4\" class=\"data row7 col4\" >00:00.0945</td>\n",
       "                        <td id=\"T_1606c_row7_col5\" class=\"data row7 col5\" >00:19.0175</td>\n",
       "                        <td id=\"T_1606c_row7_col6\" class=\"data row7 col6\" >00:18.0230</td>\n",
       "                        <td id=\"T_1606c_row7_col7\" class=\"data row7 col7\" >20</td>\n",
       "                        <td id=\"T_1606c_row7_col8\" class=\"data row7 col8\" >1.10 Hz</td>\n",
       "                        <td id=\"T_1606c_row7_col9\" class=\"data row7 col9\" >24.2500</td>\n",
       "                        <td id=\"T_1606c_row7_col10\" class=\"data row7 col10\" >24.5625</td>\n",
       "                        <td id=\"T_1606c_row7_col11\" class=\"data row7 col11\" >24.9375</td>\n",
       "            </tr>\n",
       "            <tr>\n",
       "                        <th id=\"T_1606c_level0_row8\" class=\"row_heading level0 row8\" >8</th>\n",
       "                        <td id=\"T_1606c_row8_col0\" class=\"data row8 col0\" >70.0</td>\n",
       "                        <td id=\"T_1606c_row8_col1\" class=\"data row8 col1\" >X</td>\n",
       "                        <td id=\"T_1606c_row8_col2\" class=\"data row8 col2\" >Quaternion</td>\n",
       "                        <td id=\"T_1606c_row8_col3\" class=\"data row8 col3\" >q</td>\n",
       "                        <td id=\"T_1606c_row8_col4\" class=\"data row8 col4\" >00:01.0132</td>\n",
       "                        <td id=\"T_1606c_row8_col5\" class=\"data row8 col5\" >00:18.0954</td>\n",
       "                        <td id=\"T_1606c_row8_col6\" class=\"data row8 col6\" >00:17.0821</td>\n",
       "                        <td id=\"T_1606c_row8_col7\" class=\"data row8 col7\" >1755</td>\n",
       "                        <td id=\"T_1606c_row8_col8\" class=\"data row8 col8\" >98.47 Hz</td>\n",
       "                        <td id=\"T_1606c_row8_col9\" class=\"data row8 col9\" >-0.0333</td>\n",
       "                        <td id=\"T_1606c_row8_col10\" class=\"data row8 col10\" >0.0110</td>\n",
       "                        <td id=\"T_1606c_row8_col11\" class=\"data row8 col11\" >0.0480</td>\n",
       "            </tr>\n",
       "            <tr>\n",
       "                        <th id=\"T_1606c_level0_row9\" class=\"row_heading level0 row9\" >9</th>\n",
       "                        <td id=\"T_1606c_row9_col0\" class=\"data row9 col0\" >70.1</td>\n",
       "                        <td id=\"T_1606c_row9_col1\" class=\"data row9 col1\" >Y</td>\n",
       "                        <td id=\"T_1606c_row9_col2\" class=\"data row9 col2\" >Quaternion</td>\n",
       "                        <td id=\"T_1606c_row9_col3\" class=\"data row9 col3\" >q</td>\n",
       "                        <td id=\"T_1606c_row9_col4\" class=\"data row9 col4\" >00:01.0132</td>\n",
       "                        <td id=\"T_1606c_row9_col5\" class=\"data row9 col5\" >00:18.0954</td>\n",
       "                        <td id=\"T_1606c_row9_col6\" class=\"data row9 col6\" >00:17.0821</td>\n",
       "                        <td id=\"T_1606c_row9_col7\" class=\"data row9 col7\" >1755</td>\n",
       "                        <td id=\"T_1606c_row9_col8\" class=\"data row9 col8\" >98.47 Hz</td>\n",
       "                        <td id=\"T_1606c_row9_col9\" class=\"data row9 col9\" >-0.0837</td>\n",
       "                        <td id=\"T_1606c_row9_col10\" class=\"data row9 col10\" >-0.0145</td>\n",
       "                        <td id=\"T_1606c_row9_col11\" class=\"data row9 col11\" >0.0472</td>\n",
       "            </tr>\n",
       "            <tr>\n",
       "                        <th id=\"T_1606c_level0_row10\" class=\"row_heading level0 row10\" >10</th>\n",
       "                        <td id=\"T_1606c_row10_col0\" class=\"data row10 col0\" >70.2</td>\n",
       "                        <td id=\"T_1606c_row10_col1\" class=\"data row10 col1\" >Z</td>\n",
       "                        <td id=\"T_1606c_row10_col2\" class=\"data row10 col2\" >Quaternion</td>\n",
       "                        <td id=\"T_1606c_row10_col3\" class=\"data row10 col3\" >q</td>\n",
       "                        <td id=\"T_1606c_row10_col4\" class=\"data row10 col4\" >00:01.0132</td>\n",
       "                        <td id=\"T_1606c_row10_col5\" class=\"data row10 col5\" >00:18.0954</td>\n",
       "                        <td id=\"T_1606c_row10_col6\" class=\"data row10 col6\" >00:17.0821</td>\n",
       "                        <td id=\"T_1606c_row10_col7\" class=\"data row10 col7\" >1755</td>\n",
       "                        <td id=\"T_1606c_row10_col8\" class=\"data row10 col8\" >98.47 Hz</td>\n",
       "                        <td id=\"T_1606c_row10_col9\" class=\"data row10 col9\" >-0.0820</td>\n",
       "                        <td id=\"T_1606c_row10_col10\" class=\"data row10 col10\" >0.0001</td>\n",
       "                        <td id=\"T_1606c_row10_col11\" class=\"data row10 col11\" >0.0651</td>\n",
       "            </tr>\n",
       "            <tr>\n",
       "                        <th id=\"T_1606c_level0_row11\" class=\"row_heading level0 row11\" >11</th>\n",
       "                        <td id=\"T_1606c_row11_col0\" class=\"data row11 col0\" >70.3</td>\n",
       "                        <td id=\"T_1606c_row11_col1\" class=\"data row11 col1\" >W</td>\n",
       "                        <td id=\"T_1606c_row11_col2\" class=\"data row11 col2\" >Quaternion</td>\n",
       "                        <td id=\"T_1606c_row11_col3\" class=\"data row11 col3\" >q</td>\n",
       "                        <td id=\"T_1606c_row11_col4\" class=\"data row11 col4\" >00:01.0132</td>\n",
       "                        <td id=\"T_1606c_row11_col5\" class=\"data row11 col5\" >00:18.0954</td>\n",
       "                        <td id=\"T_1606c_row11_col6\" class=\"data row11 col6\" >00:17.0821</td>\n",
       "                        <td id=\"T_1606c_row11_col7\" class=\"data row11 col7\" >1755</td>\n",
       "                        <td id=\"T_1606c_row11_col8\" class=\"data row11 col8\" >98.47 Hz</td>\n",
       "                        <td id=\"T_1606c_row11_col9\" class=\"data row11 col9\" >0.9930</td>\n",
       "                        <td id=\"T_1606c_row11_col10\" class=\"data row11 col10\" >0.9991</td>\n",
       "                        <td id=\"T_1606c_row11_col11\" class=\"data row11 col11\" >0.9999</td>\n",
       "            </tr>\n",
       "            <tr>\n",
       "                        <th id=\"T_1606c_level0_row12\" class=\"row_heading level0 row12\" >12</th>\n",
       "                        <td id=\"T_1606c_row12_col0\" class=\"data row12 col0\" >59.0</td>\n",
       "                        <td id=\"T_1606c_row12_col1\" class=\"data row12 col1\" >Control Pad Pressure</td>\n",
       "                        <td id=\"T_1606c_row12_col2\" class=\"data row12 col2\" >Pressure</td>\n",
       "                        <td id=\"T_1606c_row12_col3\" class=\"data row12 col3\" >Pa</td>\n",
       "                        <td id=\"T_1606c_row12_col4\" class=\"data row12 col4\" >00:00.0979</td>\n",
       "                        <td id=\"T_1606c_row12_col5\" class=\"data row12 col5\" >00:18.0910</td>\n",
       "                        <td id=\"T_1606c_row12_col6\" class=\"data row12 col6\" >00:17.0931</td>\n",
       "                        <td id=\"T_1606c_row12_col7\" class=\"data row12 col7\" >180</td>\n",
       "                        <td id=\"T_1606c_row12_col8\" class=\"data row12 col8\" >10.04 Hz</td>\n",
       "                        <td id=\"T_1606c_row12_col9\" class=\"data row12 col9\" >101725.0000</td>\n",
       "                        <td id=\"T_1606c_row12_col10\" class=\"data row12 col10\" >101728.6713</td>\n",
       "                        <td id=\"T_1606c_row12_col11\" class=\"data row12 col11\" >101734.0027</td>\n",
       "            </tr>\n",
       "            <tr>\n",
       "                        <th id=\"T_1606c_level0_row13\" class=\"row_heading level0 row13\" >13</th>\n",
       "                        <td id=\"T_1606c_row13_col0\" class=\"data row13 col0\" >59.1</td>\n",
       "                        <td id=\"T_1606c_row13_col1\" class=\"data row13 col1\" >Control Pad Temperature</td>\n",
       "                        <td id=\"T_1606c_row13_col2\" class=\"data row13 col2\" >Temperature</td>\n",
       "                        <td id=\"T_1606c_row13_col3\" class=\"data row13 col3\" >°C</td>\n",
       "                        <td id=\"T_1606c_row13_col4\" class=\"data row13 col4\" >00:00.0979</td>\n",
       "                        <td id=\"T_1606c_row13_col5\" class=\"data row13 col5\" >00:18.0910</td>\n",
       "                        <td id=\"T_1606c_row13_col6\" class=\"data row13 col6\" >00:17.0931</td>\n",
       "                        <td id=\"T_1606c_row13_col7\" class=\"data row13 col7\" >180</td>\n",
       "                        <td id=\"T_1606c_row13_col8\" class=\"data row13 col8\" >10.04 Hz</td>\n",
       "                        <td id=\"T_1606c_row13_col9\" class=\"data row13 col9\" >24.2600</td>\n",
       "                        <td id=\"T_1606c_row13_col10\" class=\"data row13 col10\" >24.7704</td>\n",
       "                        <td id=\"T_1606c_row13_col11\" class=\"data row13 col11\" >24.9000</td>\n",
       "            </tr>\n",
       "            <tr>\n",
       "                        <th id=\"T_1606c_level0_row14\" class=\"row_heading level0 row14\" >14</th>\n",
       "                        <td id=\"T_1606c_row14_col0\" class=\"data row14 col0\" >76.0</td>\n",
       "                        <td id=\"T_1606c_row14_col1\" class=\"data row14 col1\" >Lux</td>\n",
       "                        <td id=\"T_1606c_row14_col2\" class=\"data row14 col2\" >Light</td>\n",
       "                        <td id=\"T_1606c_row14_col3\" class=\"data row14 col3\" >Ill</td>\n",
       "                        <td id=\"T_1606c_row14_col4\" class=\"data row14 col4\" >00:00.0000</td>\n",
       "                        <td id=\"T_1606c_row14_col5\" class=\"data row14 col5\" >00:18.0737</td>\n",
       "                        <td id=\"T_1606c_row14_col6\" class=\"data row14 col6\" >00:18.0737</td>\n",
       "                        <td id=\"T_1606c_row14_col7\" class=\"data row14 col7\" >71</td>\n",
       "                        <td id=\"T_1606c_row14_col8\" class=\"data row14 col8\" >3.79 Hz</td>\n",
       "                        <td id=\"T_1606c_row14_col9\" class=\"data row14 col9\" >359.9033</td>\n",
       "                        <td id=\"T_1606c_row14_col10\" class=\"data row14 col10\" >616.8129</td>\n",
       "                        <td id=\"T_1606c_row14_col11\" class=\"data row14 col11\" >980.5708</td>\n",
       "            </tr>\n",
       "            <tr>\n",
       "                        <th id=\"T_1606c_level0_row15\" class=\"row_heading level0 row15\" >15</th>\n",
       "                        <td id=\"T_1606c_row15_col0\" class=\"data row15 col0\" >76.1</td>\n",
       "                        <td id=\"T_1606c_row15_col1\" class=\"data row15 col1\" >UV</td>\n",
       "                        <td id=\"T_1606c_row15_col2\" class=\"data row15 col2\" >Light</td>\n",
       "                        <td id=\"T_1606c_row15_col3\" class=\"data row15 col3\" >Index</td>\n",
       "                        <td id=\"T_1606c_row15_col4\" class=\"data row15 col4\" >00:00.0000</td>\n",
       "                        <td id=\"T_1606c_row15_col5\" class=\"data row15 col5\" >00:18.0737</td>\n",
       "                        <td id=\"T_1606c_row15_col6\" class=\"data row15 col6\" >00:18.0737</td>\n",
       "                        <td id=\"T_1606c_row15_col7\" class=\"data row15 col7\" >71</td>\n",
       "                        <td id=\"T_1606c_row15_col8\" class=\"data row15 col8\" >3.79 Hz</td>\n",
       "                        <td id=\"T_1606c_row15_col9\" class=\"data row15 col9\" >0.0000</td>\n",
       "                        <td id=\"T_1606c_row15_col10\" class=\"data row15 col10\" >0.4690</td>\n",
       "                        <td id=\"T_1606c_row15_col11\" class=\"data row15 col11\" >0.8865</td>\n",
       "            </tr>\n",
       "    </tbody></table>"
      ],
      "text/plain": [
       "<pandas.io.formats.style.Styler at 0x1cdcc5e5460>"
      ]
     },
     "execution_count": 4,
     "metadata": {},
     "output_type": "execute_result"
    }
   ],
   "source": [
    "t"
   ]
  },
  {
   "cell_type": "code",
   "execution_count": 6,
   "id": "a4f0a55e",
   "metadata": {},
   "outputs": [
    {
     "data": {
      "text/plain": [
       "'C:\\\\Users\\\\dstokes\\\\workspace\\\\endaq-python\\\\tests\\\\test.ide'"
      ]
     },
     "execution_count": 6,
     "metadata": {},
     "output_type": "execute_result"
    }
   ],
   "source": [
    "doc.filename"
   ]
  },
  {
   "cell_type": "code",
   "execution_count": 5,
   "id": "40ef838f",
   "metadata": {},
   "outputs": [
    {
     "name": "stdout",
     "output_type": "stream",
     "text": [
      "Help on built-in function print in module builtins:\n",
      "\n",
      "print(...)\n",
      "    print(value, ..., sep=' ', end='\\n', file=sys.stdout, flush=False)\n",
      "    \n",
      "    Prints the values to a stream, or to sys.stdout by default.\n",
      "    Optional keyword arguments:\n",
      "    file:  a file-like object (stream); defaults to the current sys.stdout.\n",
      "    sep:   string inserted between values, default a space.\n",
      "    end:   string appended after the last value, default a newline.\n",
      "    flush: whether to forcibly flush the stream.\n",
      "\n"
     ]
    }
   ],
   "source": [
    "help(print)"
   ]
  },
  {
   "cell_type": "code",
   "execution_count": 46,
   "id": "be3b790d",
   "metadata": {
    "scrolled": true
   },
   "outputs": [
    {
     "data": {
      "text/plain": [
       "9.223372036854776e+18"
      ]
     },
     "execution_count": 46,
     "metadata": {},
     "output_type": "execute_result"
    }
   ],
   "source": [
    "np.float64(9223372036854775807)"
   ]
  },
  {
   "cell_type": "raw",
   "id": "5f7a65b2",
   "metadata": {},
   "source": [
    "sys.maxsize > 3.4028235e+38"
   ]
  },
  {
   "cell_type": "code",
   "execution_count": 44,
   "id": "cadc1d44",
   "metadata": {},
   "outputs": [
    {
     "data": {
      "text/plain": [
       "False"
      ]
     },
     "execution_count": 44,
     "metadata": {},
     "output_type": "execute_result"
    }
   ],
   "source": [
    "sys.maxsize > 3.4028235e+38"
   ]
  },
  {
   "cell_type": "code",
   "execution_count": 14,
   "id": "78f86829",
   "metadata": {},
   "outputs": [
    {
     "data": {
      "text/plain": [
       "(2, 586)"
      ]
     },
     "execution_count": 14,
     "metadata": {},
     "output_type": "execute_result"
    }
   ],
   "source": [
    "mmm[0].shape"
   ]
  },
  {
   "cell_type": "code",
   "execution_count": 15,
   "id": "4d768d78",
   "metadata": {},
   "outputs": [],
   "source": [
    "accel = doc.channels[8][0].getSession()"
   ]
  },
  {
   "cell_type": "code",
   "execution_count": 16,
   "id": "f643001c",
   "metadata": {},
   "outputs": [
    {
     "data": {
      "text/plain": [
       "669551"
      ]
     },
     "execution_count": 16,
     "metadata": {},
     "output_type": "execute_result"
    }
   ],
   "source": [
    "len(accel)"
   ]
  },
  {
   "cell_type": "code",
   "execution_count": 18,
   "id": "d4d69f90",
   "metadata": {},
   "outputs": [
    {
     "data": {
      "text/plain": [
       "586"
      ]
     },
     "execution_count": 18,
     "metadata": {},
     "output_type": "execute_result"
    }
   ],
   "source": [
    "len(accel._data)"
   ]
  },
  {
   "cell_type": "code",
   "execution_count": null,
   "id": "685771e9",
   "metadata": {},
   "outputs": [],
   "source": []
  }
 ],
 "metadata": {
  "kernelspec": {
   "display_name": "Python 3",
   "language": "python",
   "name": "python3"
  },
  "language_info": {
   "codemirror_mode": {
    "name": "ipython",
    "version": 3
   },
   "file_extension": ".py",
   "mimetype": "text/x-python",
   "name": "python",
   "nbconvert_exporter": "python",
   "pygments_lexer": "ipython3",
   "version": "3.9.5"
  }
 },
 "nbformat": 4,
 "nbformat_minor": 5
}
